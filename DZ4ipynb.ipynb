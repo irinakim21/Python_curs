{
  "nbformat": 4,
  "nbformat_minor": 0,
  "metadata": {
    "colab": {
      "name": "DZ4ipynb",
      "provenance": [],
      "authorship_tag": "ABX9TyNXle7xO6ovuQp1yd+BZY0D",
      "include_colab_link": true
    },
    "kernelspec": {
      "name": "python3",
      "display_name": "Python 3"
    },
    "language_info": {
      "name": "python"
    }
  },
  "cells": [
    {
      "cell_type": "markdown",
      "metadata": {
        "id": "view-in-github",
        "colab_type": "text"
      },
      "source": [
        "<a href=\"https://colab.research.google.com/github/irinakim21/Python_curs/blob/master/DZ4ipynb.ipynb\" target=\"_parent\"><img src=\"https://colab.research.google.com/assets/colab-badge.svg\" alt=\"Open In Colab\"/></a>"
      ]
    },
    {
      "cell_type": "code",
      "source": [
        "%matplotlib inline\n",
        "import numpy as np\n",
        "\n",
        "[]\n",
        "for i in range(0, 5):\n",
        "    a = input()\n",
        "    num = np.random.uniform(0, 36)\n",
        "    if num == 0:\n",
        "        print(\"green\")\n",
        "    elif x < 50:\n",
        "        print(\"red\")\n",
        "    else:\n",
        "        print(\"black\")\n"
      ],
      "metadata": {
        "id": "ncSuI60oZHGl"
      },
      "execution_count": null,
      "outputs": []
    },
    {
      "cell_type": "code",
      "source": [
        "# Сгенерируйте десять выборок случайных чисел х0, …, х9.\n",
        "k,m,l = 0, 0, 0\n",
        "n = 100 \n",
        "for i in range(0,n):\n",
        "    x = np.random.uniform(0, 10)\n",
        "    l = l + 1\n",
        "    if i < 5:\n",
        "       k = k + 1 \n",
        "    else:\n",
        "       m = m + 1\n",
        "    if k + m == l:\n",
        "     print(\"true\")\n",
        "else:\n",
        "    print(\"false\")\n",
        "print(k, m, l)\n"
      ],
      "metadata": {
        "id": "oKqkVNpDZqXR"
      },
      "execution_count": null,
      "outputs": []
    },
    {
      "cell_type": "code",
      "source": [
        "import matplotlib.pyplot as plt\n",
        "import matplotlib.mlab as mlab\n",
        "\n",
        "allsums=[]\n",
        "for i in range(11):\n",
        "  x=np.random.rand(10)\n",
        "  allsums.append(sum(x))\n",
        "  i += 1\n",
        "num_bins = 10\n",
        "n, bins, patches = plt.hist(allsums, num_bins)\n",
        "plt.xlabel('summa')\n",
        "plt.ylabel('Probability')\n",
        "plt.title('Histogram')"
      ],
      "metadata": {
        "colab": {
          "base_uri": "https://localhost:8080/",
          "height": 312
        },
        "id": "CBeqDXyfcBGj",
        "outputId": "f28b24a7-d3c5-414f-dd89-f96b17f7a803"
      },
      "execution_count": 8,
      "outputs": [
        {
          "output_type": "execute_result",
          "data": {
            "text/plain": [
              "Text(0.5, 1.0, 'Histogram')"
            ]
          },
          "metadata": {},
          "execution_count": 8
        },
        {
          "output_type": "display_data",
          "data": {
            "image/png": "[encoded data removed]",
            "text/plain": [
              "<Figure size 432x288 with 1 Axes>"
            ]
          },
          "metadata": {
            "needs_background": "light"
          }
        }
      ]
    }
  ]
}